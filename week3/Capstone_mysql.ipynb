{
 "cells": [
  {
   "cell_type": "code",
   "execution_count": 1,
   "id": "623c9c51",
   "metadata": {},
   "outputs": [],
   "source": [
    "import mysql.connector as connector"
   ]
  },
  {
   "cell_type": "code",
   "execution_count": 2,
   "id": "81b4425c",
   "metadata": {},
   "outputs": [],
   "source": [
    "connection = connector.connect(user=\"admin2\", password=\"Capstone@100\")\n",
    "cursor = connection.cursor()"
   ]
  },
  {
   "cell_type": "code",
   "execution_count": 3,
   "id": "9f464cd4",
   "metadata": {},
   "outputs": [],
   "source": [
    "cursor.execute(\"USE littlelemondm\")"
   ]
  },
  {
   "cell_type": "code",
   "execution_count": 7,
   "id": "704a85ee",
   "metadata": {},
   "outputs": [],
   "source": [
    "creating_joins ='''\n",
    "SELECT customerdetails.Name, \n",
    "customerdetails.Contacts, \n",
    "orders.TotalCost\n",
    "FROM customerdetails\n",
    "INNER JOIN orders ON customerdetails.CustomerID = orders.CustomerID\n",
    "WHERE orders.TotalCost > 60;\n",
    "'''"
   ]
  },
  {
   "cell_type": "code",
   "execution_count": 8,
   "id": "8fce82d2",
   "metadata": {},
   "outputs": [],
   "source": [
    "cursor.execute(creating_joins)\n",
    "results =cursor.fetchall()"
   ]
  },
  {
   "cell_type": "code",
   "execution_count": 15,
   "id": "60adbaf6",
   "metadata": {},
   "outputs": [
    {
     "name": "stdout",
     "output_type": "stream",
     "text": [
      "Name Contacts TotalCost \n",
      "Charlie charlie@example.com 499 \n",
      "Frank frank@example.com 295 \n",
      "Bob bob@example.com 599 \n",
      "Emily emily@example.com 199 \n",
      "John Doe john.doe@example.com 795 \n",
      "Grace grace@example.com 295 \n",
      "Jane Doe jane.doe@example.com 499 \n",
      "David david@example.com 599 \n",
      "Alice alice@example.com 199 \n",
      "Hannah hannah@example.com 795 \n"
     ]
    }
   ],
   "source": [
    "for columns in cursor.column_names:\n",
    "    print(columns, end = \" \")\n",
    "print(\"\")\n",
    "for x in results:\n",
    "    for y in x:\n",
    "        print(y,end =\" \")\n",
    "    print(\"\")"
   ]
  },
  {
   "cell_type": "code",
   "execution_count": null,
   "id": "4ac05162",
   "metadata": {},
   "outputs": [],
   "source": []
  }
 ],
 "metadata": {
  "kernelspec": {
   "display_name": "Python 3 (ipykernel)",
   "language": "python",
   "name": "python3"
  },
  "language_info": {
   "codemirror_mode": {
    "name": "ipython",
    "version": 3
   },
   "file_extension": ".py",
   "mimetype": "text/x-python",
   "name": "python",
   "nbconvert_exporter": "python",
   "pygments_lexer": "ipython3",
   "version": "3.11.5"
  }
 },
 "nbformat": 4,
 "nbformat_minor": 5
}
